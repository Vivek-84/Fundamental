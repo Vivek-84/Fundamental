{
 "cells": [
  {
   "cell_type": "markdown",
   "id": "bee9781c",
   "metadata": {},
   "source": [
    "# Q1.How do you comment code in Python? What are the different types of comments?"
   ]
  },
  {
   "cell_type": "code",
   "execution_count": null,
   "id": "19000922",
   "metadata": {},
   "outputs": [],
   "source": [
    "comments can be done in python by using hash(#) or triple quotes(''' ''') or(\"\"\" \"\"\")\n",
    "\n",
    "a= # This is single line comment\n",
    "b= # This is multi line\n",
    "   # comment by using hash for \n",
    "   # each line\n",
    "c= '''This is \n",
    "multi line comment by using\n",
    "triple quote'''"
   ]
  },
  {
   "cell_type": "markdown",
   "id": "3bb92406",
   "metadata": {},
   "source": [
    "# Q2. What are variables in Python? How do you declare and assign values to variables?"
   ]
  },
  {
   "cell_type": "code",
   "execution_count": null,
   "id": "249f84d0",
   "metadata": {},
   "outputs": [],
   "source": [
    "Python Variable : It is a Symbolic name that is a refrence or pointer to a object. It starts with either a alphabet or underscore only.\n",
    "x = 50 # for integer assignment\n",
    "x = \"Raman\" # for string assignment\n",
    "x = [1,2,3,\"Vinay\"] # for list assignment\n",
    "x = (1,2,3,4,\"B\")   # for tuple assignment\n",
    "x = { \"A\": 10, \"B\" : 50} # for dictonary assignment\n",
    "x = {1,2,3,\"A\"}   # for set assignment\n"
   ]
  },
  {
   "cell_type": "markdown",
   "id": "07b7bdd5",
   "metadata": {},
   "source": [
    "# Q3. How do you convert one data type to another in Python?"
   ]
  },
  {
   "cell_type": "code",
   "execution_count": null,
   "id": "c399788a",
   "metadata": {},
   "outputs": [],
   "source": [
    "by Typecasting \n",
    "int to str conversion: 5 to str(5)\n",
    "str to int conversion: \"5\" to int(\"5\")\n",
    "10 = int(str(10))\n",
    "str(10) = \"10\"\n"
   ]
  },
  {
   "cell_type": "markdown",
   "id": "42006aba",
   "metadata": {},
   "source": [
    "# Q4. How do you write and execute a Python script from the command line?"
   ]
  },
  {
   "cell_type": "code",
   "execution_count": null,
   "id": "70a0244b",
   "metadata": {},
   "outputs": [],
   "source": [
    "to write a python Script Simply type python(Window) or python3(Linux) and hit enter it will show python version and after\n",
    "that we can write Script.\n",
    "\n",
    "to run a python Script from the command line open a command line and type the word python(window) or python3(Linux) followed by \n",
    "the path to your script file. eg python 1.py\n"
   ]
  },
  {
   "cell_type": "markdown",
   "id": "5715780e",
   "metadata": {},
   "source": [
    "# Q5. Given a list my_list = [1, 2, 3, 4, 5], write the code to slice the list and obtain the sub-list [2, 3]."
   ]
  },
  {
   "cell_type": "code",
   "execution_count": 1,
   "id": "3973cba1",
   "metadata": {},
   "outputs": [
    {
     "name": "stdout",
     "output_type": "stream",
     "text": [
      "[2, 3]\n"
     ]
    }
   ],
   "source": [
    "l= [1,2,3,4,5]\n",
    "a=[]\n",
    "for i in l:\n",
    "    if i ==2 or i== 3:\n",
    "        a.append(i)\n",
    "print(a)        "
   ]
  },
  {
   "cell_type": "markdown",
   "id": "5823804f",
   "metadata": {},
   "source": [
    "# Q6. What is a complex number in mathematics, and how is it represented in Python?"
   ]
  },
  {
   "cell_type": "code",
   "execution_count": null,
   "id": "eb62f12e",
   "metadata": {},
   "outputs": [],
   "source": [
    "Compex Number  : it is a number which is represented in the form of a + ib where a,b is real number and i = (-1)**0.5\n",
    "    but In Python it is mandetory to use j instead of i. eg: 5 + 6j"
   ]
  },
  {
   "cell_type": "markdown",
   "id": "fb0b7199",
   "metadata": {},
   "source": [
    "# Q7. What is the correct way to declare a variable named age and assign the value 25 to it?"
   ]
  },
  {
   "cell_type": "code",
   "execution_count": null,
   "id": "654a95cc",
   "metadata": {},
   "outputs": [],
   "source": [
    "Python has no command for declearing a variable. A variable is created the moment one assign a value to it.\n",
    "age = 25"
   ]
  },
  {
   "cell_type": "markdown",
   "id": "1ba660b2",
   "metadata": {},
   "source": [
    "# Q8. Declare a variable named price and assign the value 9.99 to it. What data type does this variable belongs to?\n"
   ]
  },
  {
   "cell_type": "code",
   "execution_count": 2,
   "id": "a64d5133",
   "metadata": {},
   "outputs": [
    {
     "data": {
      "text/plain": [
       "float"
      ]
     },
     "execution_count": 2,
     "metadata": {},
     "output_type": "execute_result"
    }
   ],
   "source": [
    "price = 9.99\n",
    "type(price)"
   ]
  },
  {
   "cell_type": "markdown",
   "id": "86bf4914",
   "metadata": {},
   "source": [
    "# Q9. Create a variable named name and assign your full name to it as a string. How would you print the value of this variable ?\n"
   ]
  },
  {
   "cell_type": "code",
   "execution_count": 3,
   "id": "e76d6fe7",
   "metadata": {},
   "outputs": [
    {
     "name": "stdout",
     "output_type": "stream",
     "text": [
      "Vivek Kumar Singh\n"
     ]
    }
   ],
   "source": [
    "name = \"Vivek Kumar Singh\"\n",
    "print(name)"
   ]
  },
  {
   "cell_type": "markdown",
   "id": "0b9900bb",
   "metadata": {},
   "source": [
    "# Q10. Given the string \"Hello, World!\", extract the substring \"World\"."
   ]
  },
  {
   "cell_type": "code",
   "execution_count": 6,
   "id": "25529956",
   "metadata": {},
   "outputs": [
    {
     "data": {
      "text/plain": [
       "'World'"
      ]
     },
     "execution_count": 6,
     "metadata": {},
     "output_type": "execute_result"
    }
   ],
   "source": [
    "a = \"Hello, World \"\n",
    "a[-6:-1]"
   ]
  },
  {
   "cell_type": "markdown",
   "id": "ac58bec3",
   "metadata": {},
   "source": [
    "# Q11. Create a variable named \"is_student\" and assign it a boolean value indicating whether you are currently a student or not.\n"
   ]
  },
  {
   "cell_type": "code",
   "execution_count": 7,
   "id": "87e4e7fd",
   "metadata": {},
   "outputs": [
    {
     "name": "stdout",
     "output_type": "stream",
     "text": [
      "I am a student\n"
     ]
    }
   ],
   "source": [
    "is_student = True\n",
    "if is_student == True:\n",
    "  print(\"I am a student\")\n",
    "else:\n",
    "  print(\"Not a Student\")"
   ]
  },
  {
   "cell_type": "code",
   "execution_count": null,
   "id": "48961196",
   "metadata": {},
   "outputs": [],
   "source": []
  }
 ],
 "metadata": {
  "kernelspec": {
   "display_name": "Python 3 (ipykernel)",
   "language": "python",
   "name": "python3"
  },
  "language_info": {
   "codemirror_mode": {
    "name": "ipython",
    "version": 3
   },
   "file_extension": ".py",
   "mimetype": "text/x-python",
   "name": "python",
   "nbconvert_exporter": "python",
   "pygments_lexer": "ipython3",
   "version": "3.10.6"
  }
 },
 "nbformat": 4,
 "nbformat_minor": 5
}
